{
  "nbformat": 4,
  "nbformat_minor": 0,
  "metadata": {
    "colab": {
      "provenance": []
    },
    "kernelspec": {
      "name": "python3",
      "display_name": "Python 3"
    },
    "language_info": {
      "name": "python"
    }
  },
  "cells": [
    {
      "cell_type": "markdown",
      "source": [
        "Importing Libraries"
      ],
      "metadata": {
        "id": "itNN7andCyYK"
      }
    },
    {
      "cell_type": "code",
      "source": [
        "import pandas as pd\n",
        "from sklearn.feature_extraction.text import CountVectorizer\n",
        "from sklearn.metrics import accuracy_score\n",
        "from sklearn.model_selection import train_test_split\n",
        "from sklearn.metrics import confusion_matrix\n",
        "from sklearn.naive_bayes import GaussianNB\n",
        "from sklearn.naive_bayes import MultinomialNB\n",
        "from sklearn.tree import DecisionTreeClassifier"
      ],
      "metadata": {
        "id": "biVsRJMT_Bja"
      },
      "execution_count": 179,
      "outputs": []
    },
    {
      "cell_type": "markdown",
      "source": [
        "Loading dataset"
      ],
      "metadata": {
        "id": "R7gGBhyBC18T"
      }
    },
    {
      "cell_type": "code",
      "source": [
        "import pandas as pd\n",
        "data = pd.read_csv(\"/content/spam_ham_dataset.csv\")"
      ],
      "metadata": {
        "id": "j8UPNY5m_LvI"
      },
      "execution_count": 180,
      "outputs": []
    },
    {
      "cell_type": "markdown",
      "source": [
        "Preprocessing"
      ],
      "metadata": {
        "id": "2pLg83muC6y2"
      }
    },
    {
      "cell_type": "code",
      "source": [
        "data.columns"
      ],
      "metadata": {
        "colab": {
          "base_uri": "https://localhost:8080/"
        },
        "id": "MS3LiCADC-VC",
        "outputId": "805f316f-e1d8-4a5d-93ec-65ea7965a48c"
      },
      "execution_count": 181,
      "outputs": [
        {
          "output_type": "execute_result",
          "data": {
            "text/plain": [
              "Index(['Unnamed: 0', 'label', 'text', 'label_num'], dtype='object')"
            ]
          },
          "metadata": {},
          "execution_count": 181
        }
      ]
    },
    {
      "cell_type": "code",
      "source": [
        "# Drop unnecessary columns\n",
        "data.drop(['Unnamed: 0', 'label_num'], axis=1, inplace=True)\n",
        "# Convert labels to binary values in label column\n",
        "data['label'] = data['label'].map({'ham': 0, 'spam': 1})"
      ],
      "metadata": {
        "id": "37sD19Pu_T76"
      },
      "execution_count": 182,
      "outputs": []
    },
    {
      "cell_type": "code",
      "source": [
        "data.columns"
      ],
      "metadata": {
        "colab": {
          "base_uri": "https://localhost:8080/"
        },
        "id": "mDMCvAGWDMWE",
        "outputId": "412104a1-75db-46fc-d635-76a5591e1b1c"
      },
      "execution_count": 183,
      "outputs": [
        {
          "output_type": "execute_result",
          "data": {
            "text/plain": [
              "Index(['label', 'text'], dtype='object')"
            ]
          },
          "metadata": {},
          "execution_count": 183
        }
      ]
    },
    {
      "cell_type": "markdown",
      "source": [
        "Split the dataset into training and testing sets"
      ],
      "metadata": {
        "id": "eeEUg0o8DOIB"
      }
    },
    {
      "cell_type": "code",
      "source": [
        "X_train, X_test, y_train, y_test = train_test_split(data['text'], data['label'], test_size=0.3, random_state=0)"
      ],
      "metadata": {
        "id": "6WE3zXCY_kM8"
      },
      "execution_count": 184,
      "outputs": []
    },
    {
      "cell_type": "markdown",
      "source": [
        "Vectorizing data to train text column in model training"
      ],
      "metadata": {
        "id": "83MmXcYIDUeW"
      }
    },
    {
      "cell_type": "code",
      "source": [
        "vectorizer = CountVectorizer()\n",
        "X_train_vect = vectorizer.fit_transform(X_train)\n",
        "X_test_vect = vectorizer.transform(X_test)"
      ],
      "metadata": {
        "id": "y6UIkxLoB3mf"
      },
      "execution_count": 185,
      "outputs": []
    },
    {
      "cell_type": "markdown",
      "source": [
        "**Training Models:**\n",
        "1. Gaussian Naive Bayes\n",
        "2. Multinomial Naive Bayes\n",
        "3. J48 Dicision Tree"
      ],
      "metadata": {
        "id": "Wp6dsdu6Db2a"
      }
    },
    {
      "cell_type": "code",
      "source": [
        "GNB = GaussianNB() #Gaussian Naive Bayes\n",
        "MNB = MultinomialNB() #Multinomial Naive Bayes\n",
        "J48 = DecisionTreeClassifier() #J48 Decision Tree"
      ],
      "metadata": {
        "id": "8RadzxV7A2XN"
      },
      "execution_count": 213,
      "outputs": []
    },
    {
      "cell_type": "code",
      "source": [
        "models = {\"Gaussian Naive Bayes\" : GNB, \"Multinomial Naive Bayes\" : MNB, \"J48 Decision Tree\" : J48} #Dictionary containing models"
      ],
      "metadata": {
        "id": "KjTaerClK9xR"
      },
      "execution_count": 214,
      "outputs": []
    },
    {
      "cell_type": "markdown",
      "source": [
        "Function to check followings\n",
        "\n",
        "\n",
        "\n",
        "\n",
        "1. Predictions\n",
        "\n",
        "2. Accuracay\n",
        "\n",
        "3. Confusion Matrix\n",
        "\n",
        "\n",
        "\n",
        "\n",
        "\n",
        "\n",
        "\n",
        "\n",
        "\n",
        "\n",
        "\n",
        "\n",
        "\n"
      ],
      "metadata": {
        "id": "LbTzir5BJILJ"
      }
    },
    {
      "cell_type": "code",
      "source": [
        "def model_results(model):\n",
        "  model.fit(X_train_vect.toarray(), y_train)\n",
        "  y_pred = model.predict(X_test_vect.toarray())\n",
        "  accuracy = accuracy_score(y_test, y_pred)\n",
        "  print('Accuracy:', accuracy)\n",
        "  cm = confusion_matrix(y_test, y_pred)\n",
        "  print(\"Confusion Matrix: \\n\", cm)"
      ],
      "metadata": {
        "id": "ef1aanSvJ7BF"
      },
      "execution_count": 208,
      "outputs": []
    },
    {
      "cell_type": "markdown",
      "source": [
        "Loop to check Models Results one by one"
      ],
      "metadata": {
        "id": "GlziLOz3eV7X"
      }
    },
    {
      "cell_type": "code",
      "source": [
        "for i in models:\n",
        "  print(i, \"Results:\")\n",
        "  model_results(models[i])\n",
        "  print(\"----\"*10)"
      ],
      "metadata": {
        "colab": {
          "base_uri": "https://localhost:8080/"
        },
        "id": "ZK_lzCIebt_s",
        "outputId": "2d04e23d-6a31-4346-eae7-0a87415e4ab8"
      },
      "execution_count": 212,
      "outputs": [
        {
          "output_type": "stream",
          "name": "stdout",
          "text": [
            "Gaussian Naive Bayes Results:\n",
            "Accuracy: 0.958118556701031\n",
            "Confusion Matrix: \n",
            " [[1107   21]\n",
            " [  44  380]]\n",
            "----------------------------------------\n",
            "Multinomial Naive Bayes Results:\n",
            "Accuracy: 0.9774484536082474\n",
            "Confusion Matrix: \n",
            " [[1115   13]\n",
            " [  22  402]]\n",
            "----------------------------------------\n",
            "J48 Decision Tree Results:\n",
            "Accuracy: 0.9368556701030928\n",
            "Confusion Matrix: \n",
            " [[1080   48]\n",
            " [  50  374]]\n",
            "----------------------------------------\n"
          ]
        }
      ]
    }
  ]
}