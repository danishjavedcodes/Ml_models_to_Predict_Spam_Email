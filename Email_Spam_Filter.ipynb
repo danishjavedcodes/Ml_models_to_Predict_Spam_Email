{
  "nbformat": 4,
  "nbformat_minor": 0,
  "metadata": {
    "colab": {
      "provenance": [],
      "authorship_tag": "ABX9TyPKJ8N5ZnL4BpvD4g4KiKO8",
      "include_colab_link": true
    },
    "kernelspec": {
      "name": "python3",
      "display_name": "Python 3"
    },
    "language_info": {
      "name": "python"
    }
  },
  "cells": [
    {
      "cell_type": "markdown",
      "metadata": {
        "id": "view-in-github",
        "colab_type": "text"
      },
      "source": [
        "<a href=\"https://colab.research.google.com/github/danishjavedcodes/Ml_models_to_Predict_Spam_Email/blob/main/Email_Spam_Filter.ipynb\" target=\"_parent\"><img src=\"https://colab.research.google.com/assets/colab-badge.svg\" alt=\"Open In Colab\"/></a>"
      ]
    },
    {
      "cell_type": "code",
      "execution_count": 2,
      "metadata": {
        "colab": {
          "base_uri": "https://localhost:8080/"
        },
        "id": "-2UA9xNXe3xH",
        "outputId": "640f652c-8cbb-440d-b81f-f3e9be347234"
      },
      "outputs": [
        {
          "output_type": "stream",
          "name": "stdout",
          "text": [
            "fatal: destination path 'Ml_models_to_Predict_Spam_Email' already exists and is not an empty directory.\n",
            "/content/Ml_models_to_Predict_Spam_Email\n"
          ]
        }
      ],
      "source": [
        "!git clone https://github.com/danishjavedcodes/Ml_models_to_Predict_Spam_Email.git\n",
        "%cd /content/Ml_models_to_Predict_Spam_Email"
      ]
    },
    {
      "cell_type": "markdown",
      "source": [
        "Importing Libraries"
      ],
      "metadata": {
        "id": "2V5yD9CkfwfN"
      }
    },
    {
      "cell_type": "code",
      "source": [
        "import pandas as pd\n",
        "from sklearn.feature_extraction.text import CountVectorizer\n",
        "from sklearn.metrics import accuracy_score\n",
        "from sklearn.model_selection import train_test_split\n",
        "from sklearn.metrics import confusion_matrix\n",
        "from sklearn.naive_bayes import GaussianNB\n",
        "from sklearn.naive_bayes import MultinomialNB\n",
        "from sklearn.tree import DecisionTreeClassifier"
      ],
      "metadata": {
        "id": "xRTMa2Mte6Ki"
      },
      "execution_count": 3,
      "outputs": []
    },
    {
      "cell_type": "markdown",
      "source": [
        "**Loading dataset**"
      ],
      "metadata": {
        "id": "yG5byB99fz69"
      }
    },
    {
      "cell_type": "code",
      "source": [
        "import pandas as pd\n",
        "data = pd.read_csv(\"/content/Ml_models_to_Predict_Spam_Email/spam_ham_dataset.csv\")\n",
        "print(data.head())\n"
      ],
      "metadata": {
        "colab": {
          "base_uri": "https://localhost:8080/"
        },
        "id": "aFQv09q_fHkk",
        "outputId": "d12d357f-9fd0-476c-fcc9-d5fd2fea0d10"
      },
      "execution_count": 9,
      "outputs": [
        {
          "output_type": "stream",
          "name": "stdout",
          "text": [
            "   Unnamed: 0 label                                               text  \\\n",
            "0         605   ham  Subject: enron methanol ; meter # : 988291\\r\\n...   \n",
            "1        2349   ham  Subject: hpl nom for january 9 , 2001\\r\\n( see...   \n",
            "2        3624   ham  Subject: neon retreat\\r\\nho ho ho , we ' re ar...   \n",
            "3        4685  spam  Subject: photoshop , windows , office . cheap ...   \n",
            "4        2030   ham  Subject: re : indian springs\\r\\nthis deal is t...   \n",
            "\n",
            "   label_num  \n",
            "0          0  \n",
            "1          0  \n",
            "2          0  \n",
            "3          1  \n",
            "4          0  \n"
          ]
        }
      ]
    },
    {
      "cell_type": "markdown",
      "source": [
        "**Preprocessing**"
      ],
      "metadata": {
        "id": "iABzeRHFf3uT"
      }
    },
    {
      "cell_type": "code",
      "source": [
        "print(data.columns)\n",
        "# Drop unnecessary columns\n",
        "data.drop(['Unnamed: 0', 'label_num'], axis=1, inplace=True)\n",
        "# Convert labels to binary values in label column\n",
        "data['label'] = data['label'].map({'ham': 0, 'spam': 1})\n",
        "print(data.head())"
      ],
      "metadata": {
        "colab": {
          "base_uri": "https://localhost:8080/"
        },
        "id": "OoF6RhmvfOUk",
        "outputId": "bae2f812-30d0-44c9-908b-4621b6d856e5"
      },
      "execution_count": 10,
      "outputs": [
        {
          "output_type": "stream",
          "name": "stdout",
          "text": [
            "Index(['Unnamed: 0', 'label', 'text', 'label_num'], dtype='object')\n",
            "   label                                               text\n",
            "0      0  Subject: enron methanol ; meter # : 988291\\r\\n...\n",
            "1      0  Subject: hpl nom for january 9 , 2001\\r\\n( see...\n",
            "2      0  Subject: neon retreat\\r\\nho ho ho , we ' re ar...\n",
            "3      1  Subject: photoshop , windows , office . cheap ...\n",
            "4      0  Subject: re : indian springs\\r\\nthis deal is t...\n"
          ]
        }
      ]
    },
    {
      "cell_type": "markdown",
      "source": [
        "**Split the dataset** into training and testing sets"
      ],
      "metadata": {
        "id": "OpO0X6jsf8Ij"
      }
    },
    {
      "cell_type": "code",
      "source": [
        "X_train, X_test, y_train, y_test = train_test_split(data['text'], data['label'], test_size=0.3, random_state=0)"
      ],
      "metadata": {
        "id": "jw3772TxfeN6"
      },
      "execution_count": 11,
      "outputs": []
    },
    {
      "cell_type": "markdown",
      "source": [
        "**Vectorizing data** to train text column in model training"
      ],
      "metadata": {
        "id": "13pU3OwtgEeT"
      }
    },
    {
      "cell_type": "code",
      "source": [
        "vectorizer = CountVectorizer()\n",
        "X_train_vect = vectorizer.fit_transform(X_train)\n",
        "X_test_vect = vectorizer.transform(X_test)"
      ],
      "metadata": {
        "id": "zgeOtx-YfmNW"
      },
      "execution_count": 12,
      "outputs": []
    },
    {
      "cell_type": "markdown",
      "source": [
        "**Training Models:**\n",
        "1. Gaussian Naive Bayes\n",
        "2. Multinomial Naive Bayes\n",
        "3. J48 Dicision Tree"
      ],
      "metadata": {
        "id": "M9t1uHMfgIC0"
      }
    },
    {
      "cell_type": "code",
      "source": [
        "GNB = GaussianNB() #Gaussian Naive Bayes\n",
        "MNB = MultinomialNB() #Multinomial Naive Bayes\n",
        "J48 = DecisionTreeClassifier() #J48 Decision Tree"
      ],
      "metadata": {
        "id": "YbmVut99fn05"
      },
      "execution_count": 13,
      "outputs": []
    },
    {
      "cell_type": "code",
      "source": [
        "models = {\"Gaussian Naive Bayes\" : GNB, \"Multinomial Naive Bayes\" : MNB, \"J48 Decision Tree\" : J48} #Dictionary containing models"
      ],
      "metadata": {
        "id": "SfGsu6_EfpR_"
      },
      "execution_count": 14,
      "outputs": []
    },
    {
      "cell_type": "markdown",
      "source": [
        "Function to check followings\n",
        "1. Predictions\n",
        "\n",
        "2. Accuracay\n",
        "\n",
        "3. Confusion Matrix\n"
      ],
      "metadata": {
        "id": "szQgH8cJgQHw"
      }
    },
    {
      "cell_type": "code",
      "source": [
        "def model_results(model):\n",
        "  model.fit(X_train_vect.toarray(), y_train)\n",
        "  y_pred = model.predict(X_test_vect.toarray())\n",
        "  accuracy = accuracy_score(y_test, y_pred)\n",
        "  print('Accuracy:', accuracy)\n",
        "  cm = confusion_matrix(y_test, y_pred)\n",
        "  print(\"Confusion Matrix: \\n\", cm)"
      ],
      "metadata": {
        "id": "X4UWLJD2fq-e"
      },
      "execution_count": 15,
      "outputs": []
    },
    {
      "cell_type": "markdown",
      "source": [
        "Loop to check **Models Results** one by one"
      ],
      "metadata": {
        "id": "G1WZAbRVgSy6"
      }
    },
    {
      "cell_type": "code",
      "source": [
        "for i in models:\n",
        "  print(i, \"Results:\")\n",
        "  model_results(models[i])\n",
        "  print(\"----\"*10)"
      ],
      "metadata": {
        "colab": {
          "base_uri": "https://localhost:8080/"
        },
        "id": "WG1eKgZifs6P",
        "outputId": "7190b4f2-3fd8-4e86-9c8d-7fe240e136bf"
      },
      "execution_count": 16,
      "outputs": [
        {
          "output_type": "stream",
          "name": "stdout",
          "text": [
            "Gaussian Naive Bayes Results:\n",
            "Accuracy: 0.958118556701031\n",
            "Confusion Matrix: \n",
            " [[1107   21]\n",
            " [  44  380]]\n",
            "----------------------------------------\n",
            "Multinomial Naive Bayes Results:\n",
            "Accuracy: 0.9774484536082474\n",
            "Confusion Matrix: \n",
            " [[1115   13]\n",
            " [  22  402]]\n",
            "----------------------------------------\n",
            "J48 Decision Tree Results:\n",
            "Accuracy: 0.9368556701030928\n",
            "Confusion Matrix: \n",
            " [[1078   50]\n",
            " [  48  376]]\n",
            "----------------------------------------\n"
          ]
        }
      ]
    }
  ]
}